{
 "cells": [
  {
   "cell_type": "markdown",
   "id": "16d435df",
   "metadata": {},
   "source": [
    "# Dictionaries"
   ]
  },
  {
   "cell_type": "code",
   "execution_count": 1,
   "id": "ba2f50e4",
   "metadata": {},
   "outputs": [
    {
     "data": {
      "text/plain": [
       "dict"
      ]
     },
     "execution_count": 1,
     "metadata": {},
     "output_type": "execute_result"
    }
   ],
   "source": [
    "d1 = {}\n",
    "type(d1)"
   ]
  },
  {
   "cell_type": "code",
   "execution_count": 3,
   "id": "db586c0a",
   "metadata": {},
   "outputs": [
    {
     "data": {
      "text/plain": [
       "{'a': 1, 'b': 2, 'C': 3}"
      ]
     },
     "execution_count": 3,
     "metadata": {},
     "output_type": "execute_result"
    }
   ],
   "source": [
    "d1[\"a\"] = 1\n",
    "d1[\"b\"] = 2\n",
    "d1[\"C\"] = 3\n",
    "d1"
   ]
  },
  {
   "cell_type": "code",
   "execution_count": 4,
   "id": "076b269b",
   "metadata": {},
   "outputs": [
    {
     "data": {
      "text/plain": [
       "{1: 200, 2: 300}"
      ]
     },
     "execution_count": 4,
     "metadata": {},
     "output_type": "execute_result"
    }
   ],
   "source": [
    "n={1:200, 2:300}\n",
    "n"
   ]
  },
  {
   "cell_type": "code",
   "execution_count": 5,
   "id": "bb6c0d25",
   "metadata": {},
   "outputs": [
    {
     "data": {
      "text/plain": [
       "{'Daniel': 25, 'Munique': 22, 'Gabriela': 6}"
      ]
     },
     "execution_count": 5,
     "metadata": {},
     "output_type": "execute_result"
    }
   ],
   "source": [
    "namesAge = {\"Daniel\": 25, \"Munique\":22, \"Gabriela\":6}\n",
    "namesAge"
   ]
  },
  {
   "cell_type": "code",
   "execution_count": 7,
   "id": "11ffb898",
   "metadata": {},
   "outputs": [
    {
     "data": {
      "text/plain": [
       "{'a': 1, 'b': 2, 'C': 3, 'Daniel': 25, 'Munique': 22, 'Gabriela': 6}"
      ]
     },
     "execution_count": 7,
     "metadata": {},
     "output_type": "execute_result"
    }
   ],
   "source": [
    "d1.update(namesAge)\n",
    "d1"
   ]
  },
  {
   "cell_type": "code",
   "execution_count": 8,
   "id": "a339bd13",
   "metadata": {},
   "outputs": [
    {
     "data": {
      "text/plain": [
       "{'a': 10, 'b': 2, 'C': 3, 'Daniel': 25, 'Munique': 22, 'Gabriela': 6}"
      ]
     },
     "execution_count": 8,
     "metadata": {},
     "output_type": "execute_result"
    }
   ],
   "source": [
    "d1[\"a\"]=10\n",
    "d1"
   ]
  },
  {
   "cell_type": "code",
   "execution_count": 10,
   "id": "b4135460",
   "metadata": {},
   "outputs": [
    {
     "data": {
      "text/plain": [
       "[9, 10]"
      ]
     },
     "execution_count": 10,
     "metadata": {},
     "output_type": "execute_result"
    }
   ],
   "source": [
    "yourGrade = [7,10]\n",
    "yourGrade[0] = 9\n",
    "yourGrade"
   ]
  },
  {
   "cell_type": "code",
   "execution_count": 11,
   "id": "636e6d97",
   "metadata": {},
   "outputs": [
    {
     "data": {
      "text/plain": [
       "{}"
      ]
     },
     "execution_count": 11,
     "metadata": {},
     "output_type": "execute_result"
    }
   ],
   "source": [
    "d1.clear()\n",
    "d1"
   ]
  },
  {
   "cell_type": "code",
   "execution_count": 14,
   "id": "1e43be54",
   "metadata": {},
   "outputs": [
    {
     "data": {
      "text/plain": [
       "{'a': 1, 'b': 2, 'C': 3, 'Daniel': 25, 'Munique': 22, 'Gabriela': 6}"
      ]
     },
     "execution_count": 14,
     "metadata": {},
     "output_type": "execute_result"
    }
   ],
   "source": [
    "d1[\"a\"] = 1\n",
    "d1[\"b\"] = 2\n",
    "d1[\"C\"] = 3\n",
    "n={1:200, 2:300}\n",
    "d1.update(namesAge)\n",
    "\n",
    "d1"
   ]
  },
  {
   "cell_type": "code",
   "execution_count": 15,
   "id": "35e44fa8",
   "metadata": {},
   "outputs": [
    {
     "data": {
      "text/plain": [
       "{'b': 2, 'C': 3, 'Daniel': 25, 'Munique': 22, 'Gabriela': 6}"
      ]
     },
     "execution_count": 15,
     "metadata": {},
     "output_type": "execute_result"
    }
   ],
   "source": [
    "d1.pop(\"a\")\n",
    "d1"
   ]
  },
  {
   "cell_type": "code",
   "execution_count": 16,
   "id": "b1e1ec40",
   "metadata": {},
   "outputs": [
    {
     "data": {
      "text/plain": [
       "dict_values([2, 3, 25, 22, 6])"
      ]
     },
     "execution_count": 16,
     "metadata": {},
     "output_type": "execute_result"
    }
   ],
   "source": [
    "d1.values()"
   ]
  },
  {
   "cell_type": "code",
   "execution_count": 17,
   "id": "d6efac48",
   "metadata": {},
   "outputs": [
    {
     "data": {
      "text/plain": [
       "[25, 22]"
      ]
     },
     "execution_count": 17,
     "metadata": {},
     "output_type": "execute_result"
    }
   ],
   "source": [
    "list(d1.values())[2:4]"
   ]
  },
  {
   "cell_type": "code",
   "execution_count": 18,
   "id": "8e038cdb",
   "metadata": {},
   "outputs": [
    {
     "data": {
      "text/plain": [
       "('Daniel', 'Munique')"
      ]
     },
     "execution_count": 18,
     "metadata": {},
     "output_type": "execute_result"
    }
   ],
   "source": [
    "tuple(d1.keys())[2:4]"
   ]
  },
  {
   "cell_type": "code",
   "execution_count": 19,
   "id": "ef1bdbce",
   "metadata": {},
   "outputs": [
    {
     "data": {
      "text/plain": [
       "dict_items([('b', 2), ('C', 3), ('Daniel', 25), ('Munique', 22), ('Gabriela', 6)])"
      ]
     },
     "execution_count": 19,
     "metadata": {},
     "output_type": "execute_result"
    }
   ],
   "source": [
    "d1.items()"
   ]
  },
  {
   "cell_type": "code",
   "execution_count": 20,
   "id": "74ca47bf",
   "metadata": {},
   "outputs": [
    {
     "data": {
      "text/plain": [
       "[('Daniel', 25), ('Munique', 22)]"
      ]
     },
     "execution_count": 20,
     "metadata": {},
     "output_type": "execute_result"
    }
   ],
   "source": [
    "list(d1.items())[2:4]"
   ]
  },
  {
   "cell_type": "code",
   "execution_count": 22,
   "id": "e9fa9c66",
   "metadata": {},
   "outputs": [
    {
     "data": {
      "text/plain": [
       "[('Meat', 3.1), ('Fish', 2.9)]"
      ]
     },
     "execution_count": 22,
     "metadata": {},
     "output_type": "execute_result"
    }
   ],
   "source": [
    "menu=[(\"Meat\",3.1), (\"Fish\", 2.9)]\n",
    "menu"
   ]
  },
  {
   "cell_type": "code",
   "execution_count": 24,
   "id": "9036cbf8",
   "metadata": {},
   "outputs": [
    {
     "data": {
      "text/plain": [
       "list"
      ]
     },
     "execution_count": 24,
     "metadata": {},
     "output_type": "execute_result"
    }
   ],
   "source": [
    "type(menu)"
   ]
  },
  {
   "cell_type": "code",
   "execution_count": 23,
   "id": "5e495959",
   "metadata": {},
   "outputs": [
    {
     "data": {
      "text/plain": [
       "{'Meat': 3.1, 'Fish': 2.9}"
      ]
     },
     "execution_count": 23,
     "metadata": {},
     "output_type": "execute_result"
    }
   ],
   "source": [
    "dict(menu)"
   ]
  },
  {
   "cell_type": "code",
   "execution_count": 26,
   "id": "45c21576",
   "metadata": {},
   "outputs": [
    {
     "data": {
      "text/plain": [
       "dict"
      ]
     },
     "execution_count": 26,
     "metadata": {},
     "output_type": "execute_result"
    }
   ],
   "source": [
    "type(dict(menu))"
   ]
  },
  {
   "cell_type": "code",
   "execution_count": 38,
   "id": "3a970eb6",
   "metadata": {},
   "outputs": [
    {
     "data": {
      "text/plain": [
       "{'k1': {'b': 2, 'C': 3, 'Daniel': 25, 'Munique': 22, 'Gabriela': 6},\n",
       " 'k2': [10, 22, 33, 44],\n",
       " 'k3': ('iep', [5, 4, 3, {'k4': ['q', 'j', 'pull me of']}])}"
      ]
     },
     "execution_count": 38,
     "metadata": {},
     "output_type": "execute_result"
    }
   ],
   "source": [
    "what = {\"k1\":d1,\n",
    "       \"k2\":[10,22,33,44],\n",
    "       \"k3\":(\"iep\",[5,4,3, {\"k4\": [\"q\", \"j\", \"pull me of\"]}])}\n",
    "what"
   ]
  },
  {
   "cell_type": "code",
   "execution_count": 37,
   "id": "475bb465",
   "metadata": {},
   "outputs": [
    {
     "data": {
      "text/plain": [
       "'pull me of'"
      ]
     },
     "execution_count": 37,
     "metadata": {},
     "output_type": "execute_result"
    }
   ],
   "source": [
    "what[\"k3\"][1][3][\"k4\"][2]"
   ]
  },
  {
   "cell_type": "markdown",
   "id": "aaa78d50",
   "metadata": {},
   "source": [
    "### Exercise"
   ]
  },
  {
   "cell_type": "code",
   "execution_count": 40,
   "id": "b092914a",
   "metadata": {},
   "outputs": [],
   "source": [
    "food = {\"beans\":\"$40.0\", \"rice\":\"$25.0\", \"Meat\":\"$30.0\"}"
   ]
  },
  {
   "cell_type": "code",
   "execution_count": 41,
   "id": "15cf9443",
   "metadata": {},
   "outputs": [
    {
     "data": {
      "text/plain": [
       "dict_values(['$40.0', '$25.0', '$30.0'])"
      ]
     },
     "execution_count": 41,
     "metadata": {},
     "output_type": "execute_result"
    }
   ],
   "source": [
    "food.values()"
   ]
  },
  {
   "cell_type": "code",
   "execution_count": 42,
   "id": "d8d51599",
   "metadata": {},
   "outputs": [
    {
     "data": {
      "text/plain": [
       "['$40.0', '$25.0', '$30.0']"
      ]
     },
     "execution_count": 42,
     "metadata": {},
     "output_type": "execute_result"
    }
   ],
   "source": [
    "list(food.values())"
   ]
  },
  {
   "cell_type": "code",
   "execution_count": 43,
   "id": "92354d83",
   "metadata": {},
   "outputs": [
    {
     "data": {
      "text/plain": [
       "'$40.0'"
      ]
     },
     "execution_count": 43,
     "metadata": {},
     "output_type": "execute_result"
    }
   ],
   "source": [
    "list(food.values())[0]"
   ]
  },
  {
   "cell_type": "code",
   "execution_count": 44,
   "id": "34ace496",
   "metadata": {},
   "outputs": [
    {
     "data": {
      "text/plain": [
       "'40.0'"
      ]
     },
     "execution_count": 44,
     "metadata": {},
     "output_type": "execute_result"
    }
   ],
   "source": [
    "list(food.values())[0][1:]"
   ]
  },
  {
   "cell_type": "code",
   "execution_count": 45,
   "id": "3aaed2fa",
   "metadata": {},
   "outputs": [
    {
     "data": {
      "text/plain": [
       "40.0"
      ]
     },
     "execution_count": 45,
     "metadata": {},
     "output_type": "execute_result"
    }
   ],
   "source": [
    "eval(list(food.values())[0][1:])"
   ]
  },
  {
   "cell_type": "code",
   "execution_count": 47,
   "id": "de488bf7",
   "metadata": {},
   "outputs": [
    {
     "data": {
      "text/plain": [
       "95.0"
      ]
     },
     "execution_count": 47,
     "metadata": {},
     "output_type": "execute_result"
    }
   ],
   "source": [
    "num = eval(list(food.values())[0][1:]) + eval(list(food.values())[1][1:]) + eval(list(food.values())[2][1:])\n",
    "num"
   ]
  }
 ],
 "metadata": {
  "kernelspec": {
   "display_name": "Python 3 (ipykernel)",
   "language": "python",
   "name": "python3"
  },
  "language_info": {
   "codemirror_mode": {
    "name": "ipython",
    "version": 3
   },
   "file_extension": ".py",
   "mimetype": "text/x-python",
   "name": "python",
   "nbconvert_exporter": "python",
   "pygments_lexer": "ipython3",
   "version": "3.9.13"
  }
 },
 "nbformat": 4,
 "nbformat_minor": 5
}
