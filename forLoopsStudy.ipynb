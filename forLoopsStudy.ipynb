{
 "cells": [
  {
   "cell_type": "code",
   "execution_count": 1,
   "id": "b7c2a5d9",
   "metadata": {},
   "outputs": [
    {
     "name": "stdout",
     "output_type": "stream",
     "text": [
      "0\n",
      "1\n",
      "2\n",
      "3\n"
     ]
    }
   ],
   "source": [
    "for i in range(4):\n",
    "    print(i)"
   ]
  },
  {
   "cell_type": "code",
   "execution_count": 2,
   "id": "d508b33d",
   "metadata": {},
   "outputs": [
    {
     "name": "stdout",
     "output_type": "stream",
     "text": [
      "0\n",
      "2\n",
      "4\n",
      "6\n",
      "8\n",
      "10\n"
     ]
    }
   ],
   "source": [
    "for i in range(0,11,2):\n",
    "    print(i)"
   ]
  },
  {
   "cell_type": "code",
   "execution_count": 5,
   "id": "945129db",
   "metadata": {},
   "outputs": [
    {
     "name": "stdout",
     "output_type": "stream",
     "text": [
      "Hello good day!\n",
      "Hello good day!\n",
      "Hello good day!\n",
      "Hello good day!\n"
     ]
    }
   ],
   "source": [
    "for greetins in range(4):\n",
    "    print(\"Hello good day!\")"
   ]
  },
  {
   "cell_type": "code",
   "execution_count": 7,
   "id": "ac22be61",
   "metadata": {},
   "outputs": [
    {
     "name": "stdout",
     "output_type": "stream",
     "text": [
      "Daniel\n",
      "Munique\n",
      "Biga\n",
      "Lipe\n",
      "Peu\n"
     ]
    }
   ],
   "source": [
    "names = [\"Daniel\", \"Munique\", \"Biga\", \"Lipe\", \"Peu\"]\n",
    "for name in names:\n",
    "    print(name)"
   ]
  },
  {
   "cell_type": "code",
   "execution_count": 10,
   "id": "9f6f3fd7",
   "metadata": {},
   "outputs": [
    {
     "name": "stdout",
     "output_type": "stream",
     "text": [
      "0 10 0\n",
      "1 11 1\n",
      "2 12 4\n",
      "3 13 9\n"
     ]
    }
   ],
   "source": [
    "for num in range(4):\n",
    "    print(num, num +10, num*num)"
   ]
  },
  {
   "cell_type": "code",
   "execution_count": 11,
   "id": "412f0d59",
   "metadata": {},
   "outputs": [
    {
     "name": "stdout",
     "output_type": "stream",
     "text": [
      "[19, 29, 39]\n",
      "[1, 2, 3, 4, 5.5]\n",
      "['sword', 'Hammer', 'shield']\n"
     ]
    }
   ],
   "source": [
    "nest1 = [[19, 29, 39], [1,2,3,4,5.5], [\"sword\", \"Hammer\", \"shield\"]]\n",
    "\n",
    "for i in range(3):\n",
    "    print(nest1[i])"
   ]
  },
  {
   "cell_type": "code",
   "execution_count": 13,
   "id": "35c539bf",
   "metadata": {},
   "outputs": [
    {
     "name": "stdout",
     "output_type": "stream",
     "text": [
      "Sword: Power Level = 38\n",
      "Hammer: Power Level = 58\n",
      "Shield: Power Level = 78\n"
     ]
    }
   ],
   "source": [
    "for i in range(3):\n",
    "    res = nest1[0][i]+nest1[0][i]\n",
    "    print(nest1[2][i].capitalize() + \": Power Level =\", res)"
   ]
  },
  {
   "cell_type": "code",
   "execution_count": null,
   "id": "d6986e4e",
   "metadata": {},
   "outputs": [],
   "source": []
  },
  {
   "cell_type": "code",
   "execution_count": null,
   "id": "8c626508",
   "metadata": {},
   "outputs": [],
   "source": []
  },
  {
   "cell_type": "code",
   "execution_count": null,
   "id": "325ba314",
   "metadata": {},
   "outputs": [],
   "source": []
  }
 ],
 "metadata": {
  "kernelspec": {
   "display_name": "Python 3 (ipykernel)",
   "language": "python",
   "name": "python3"
  },
  "language_info": {
   "codemirror_mode": {
    "name": "ipython",
    "version": 3
   },
   "file_extension": ".py",
   "mimetype": "text/x-python",
   "name": "python",
   "nbconvert_exporter": "python",
   "pygments_lexer": "ipython3",
   "version": "3.9.13"
  }
 },
 "nbformat": 4,
 "nbformat_minor": 5
}
