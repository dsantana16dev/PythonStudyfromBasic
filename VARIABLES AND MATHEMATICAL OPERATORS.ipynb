{
 "cells": [
  {
   "cell_type": "markdown",
   "metadata": {
    "collapsed": true
   },
   "source": [
    "# <u><i><center><font color=\"blue\">VARIABLES AND MATHEMATICAL OPERATORS</font></center></i></u>\n",
    "\n",
    "### <i><font color=\"blue\">VARIABLES</font></i>\n",
    "\n",
    "- Variables are assigned values.\n",
    "- A box filled with an object is a similar process.\n",
    "\n",
    "### <i><font color=\"blue\">MATHEMATICAL OPERATORS</font></i>\n",
    "```python\n",
    "\n",
    "Addition            +\n",
    "Subtraction         -\n",
    "Multiplication      *\n",
    "Power               **\n",
    "Division            /\n",
    "Floor Division      //\n",
    "Modulus             %\n",
    "Integer             int(number)\n",
    "Float               float(number)\n",
    "```"
   ]
  },
  {
   "cell_type": "code",
   "execution_count": 1,
   "metadata": {},
   "outputs": [
    {
     "data": {
      "text/plain": [
       "20.0"
      ]
     },
     "execution_count": 1,
     "metadata": {},
     "output_type": "execute_result"
    }
   ],
   "source": [
    "100 + 5\n",
    "100 - 5\n",
    "100 * 5\n",
    "100 / 5"
   ]
  },
  {
   "cell_type": "code",
   "execution_count": 20,
   "metadata": {},
   "outputs": [
    {
     "name": "stdout",
     "output_type": "stream",
     "text": [
      "64\n",
      "64\n"
     ]
    }
   ],
   "source": [
    "print(4*4*4)\n",
    "print(4**3)"
   ]
  },
  {
   "cell_type": "code",
   "execution_count": 19,
   "metadata": {},
   "outputs": [
    {
     "name": "stdout",
     "output_type": "stream",
     "text": [
      "8.0\n",
      "8\n",
      "0\n",
      "0\n"
     ]
    }
   ],
   "source": [
    "var = 5\n",
    "print(40/var)\n",
    "print(40 //var)\n",
    "print(40 % var)\n",
    "print(40- (8*var))"
   ]
  },
  {
   "cell_type": "code",
   "execution_count": 11,
   "metadata": {},
   "outputs": [
    {
     "name": "stdout",
     "output_type": "stream",
     "text": [
      "2.25\n",
      "2\n",
      "1\n",
      "1\n"
     ]
    }
   ],
   "source": [
    "var=4\n",
    "print(9/var)\n",
    "print(9//var)\n",
    "print(9%var)\n",
    "print(9 -(2*var))"
   ]
  },
  {
   "cell_type": "code",
   "execution_count": 15,
   "metadata": {},
   "outputs": [
    {
     "data": {
      "text/plain": [
       "25.0"
      ]
     },
     "execution_count": 15,
     "metadata": {},
     "output_type": "execute_result"
    }
   ],
   "source": [
    "x, y, z =25, 80, 9.12345\n",
    "\n",
    "x_float = float(x)\n",
    "(x_float)"
   ]
  },
  {
   "cell_type": "code",
   "execution_count": 13,
   "metadata": {},
   "outputs": [
    {
     "data": {
      "text/plain": [
       "float"
      ]
     },
     "execution_count": 13,
     "metadata": {},
     "output_type": "execute_result"
    }
   ],
   "source": [
    "type(z)"
   ]
  },
  {
   "cell_type": "code",
   "execution_count": 16,
   "metadata": {},
   "outputs": [
    {
     "data": {
      "text/plain": [
       "int"
      ]
     },
     "execution_count": 16,
     "metadata": {},
     "output_type": "execute_result"
    }
   ],
   "source": [
    "z_int = int(z)\n",
    "z_int\n",
    "\n",
    "type(z_int)"
   ]
  },
  {
   "cell_type": "code",
   "execution_count": null,
   "metadata": {},
   "outputs": [],
   "source": []
  },
  {
   "cell_type": "code",
   "execution_count": null,
   "metadata": {},
   "outputs": [],
   "source": []
  },
  {
   "cell_type": "code",
   "execution_count": 17,
   "metadata": {},
   "outputs": [
    {
     "data": {
      "text/plain": [
       "620.0"
      ]
     },
     "execution_count": 17,
     "metadata": {},
     "output_type": "execute_result"
    }
   ],
   "source": [
    "box3 = 300\n",
    "box3\n",
    "a, b, c = 20, 30, 40\n",
    "a\n",
    "b\n",
    "c\n",
    "\n",
    "num = a + b * c / 2\n",
    "num"
   ]
  }
 ],
 "metadata": {
  "kernelspec": {
   "display_name": "Python 3 (ipykernel)",
   "language": "python",
   "name": "python3"
  },
  "language_info": {
   "codemirror_mode": {
    "name": "ipython",
    "version": 3
   },
   "file_extension": ".py",
   "mimetype": "text/x-python",
   "name": "python",
   "nbconvert_exporter": "python",
   "pygments_lexer": "ipython3",
   "version": "3.9.13"
  }
 },
 "nbformat": 4,
 "nbformat_minor": 2
}
