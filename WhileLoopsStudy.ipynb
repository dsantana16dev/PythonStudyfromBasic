{
 "cells": [
  {
   "cell_type": "markdown",
   "id": "2b36bf35",
   "metadata": {},
   "source": [
    "# While Loops"
   ]
  },
  {
   "cell_type": "code",
   "execution_count": null,
   "id": "b2a1d86d",
   "metadata": {},
   "outputs": [],
   "source": [
    "x = 0\n",
    "while x <= 10:\n",
    "    print(x)\n",
    "    x += 1"
   ]
  },
  {
   "cell_type": "code",
   "execution_count": null,
   "id": "3c299f6f",
   "metadata": {},
   "outputs": [],
   "source": [
    "x = 0\n",
    "while x <= 10:\n",
    "    print(x)\n",
    "    x = x + 1"
   ]
  },
  {
   "cell_type": "code",
   "execution_count": null,
   "id": "27596bd5",
   "metadata": {},
   "outputs": [],
   "source": [
    "x = 5\n",
    "while x <= 10:\n",
    "    print(x)\n",
    "    x += 1"
   ]
  },
  {
   "cell_type": "code",
   "execution_count": null,
   "id": "7b9c6b3c",
   "metadata": {},
   "outputs": [],
   "source": [
    "x = 10\n",
    "while x <= 100:\n",
    "    print(x)\n",
    "    x += 10"
   ]
  },
  {
   "cell_type": "code",
   "execution_count": null,
   "id": "7093fc17",
   "metadata": {},
   "outputs": [],
   "source": [
    "x = 50\n",
    "#infinite Loop DOnot run code!\n",
    "print"
   ]
  },
  {
   "cell_type": "code",
   "execution_count": 1,
   "id": "2d67fd1f",
   "metadata": {},
   "outputs": [
    {
     "name": "stdout",
     "output_type": "stream",
     "text": [
      "the multiplication is:  1\n",
      "the multiplication is:  2\n",
      "the multiplication is:  4\n",
      "the multiplication is:  8\n",
      "the multiplication is:  16\n"
     ]
    }
   ],
   "source": [
    "num = 1\n",
    "while num < 20:\n",
    "    print(\"the multiplication is: \", num)\n",
    "    num *= 2"
   ]
  },
  {
   "cell_type": "code",
   "execution_count": 2,
   "id": "f7cfd2fc",
   "metadata": {},
   "outputs": [
    {
     "name": "stdout",
     "output_type": "stream",
     "text": [
      "the division is:  1000 2\n",
      "the division is:  333 2\n",
      "the division is:  111 2\n",
      "the division is:  37 2\n",
      "the division is:  12 2\n"
     ]
    }
   ],
   "source": [
    "div = 1000\n",
    "while div > 10:\n",
    "    print(\"the division is: \", round(div),2 )\n",
    "    div /= 3"
   ]
  },
  {
   "cell_type": "code",
   "execution_count": 3,
   "id": "d39688b8",
   "metadata": {},
   "outputs": [
    {
     "name": "stdout",
     "output_type": "stream",
     "text": [
      "the floor is  200\n",
      "the floor is  100.0\n",
      "the floor is  50.0\n",
      "the floor is  25.0\n",
      "the floor is  12.5\n"
     ]
    }
   ],
   "source": [
    "floor = 200\n",
    "while floor > 10:\n",
    "    print (\"the floor is \", floor)\n",
    "    floor /= 2"
   ]
  },
  {
   "cell_type": "code",
   "execution_count": 13,
   "id": "46965323",
   "metadata": {},
   "outputs": [
    {
     "name": "stdout",
     "output_type": "stream",
     "text": [
      "count down to lift oss in  10 seconds!\n",
      "count down to lift oss in  9 seconds!\n",
      "count down to lift oss in  8 seconds!\n",
      "count down to lift oss in  7 seconds!\n",
      "count down to lift oss in  6 seconds!\n",
      "count down to lift oss in  5 seconds!\n",
      "count down to lift oss in  4 seconds!\n",
      "count down to lift oss in  3 seconds!\n",
      "count down to lift oss in  2 seconds!\n",
      "count down to lift oss in  1 seconds!\n",
      "Blast Off\n"
     ]
    }
   ],
   "source": [
    "sub = 10\n",
    "while sub > 0:\n",
    "    print(\"count down to lift oss in \", str(sub) + \" seconds!\")      \n",
    "    sub = sub - 1\n",
    "          \n",
    "    if sub == 0:\n",
    "        print(\"Blast Off\")"
   ]
  },
  {
   "cell_type": "code",
   "execution_count": 14,
   "id": "867bfb0d",
   "metadata": {},
   "outputs": [
    {
     "name": "stdout",
     "output_type": "stream",
     "text": [
      "0 + 0 = 0\n",
      "1 + 1 = 2\n",
      "2 + 2 = 4\n",
      "3 + 3 = 6\n",
      "4 + 4 = 8\n",
      "5 + 5 = 10\n",
      "6 + 6 = 12\n",
      "7 + 7 = 14\n"
     ]
    }
   ],
   "source": [
    "p = 0\n",
    "while p < 8:\n",
    "    print(\"{} + {} = {}\".format(p, p, (p+p)))\n",
    "    p+=1"
   ]
  },
  {
   "cell_type": "code",
   "execution_count": 15,
   "id": "439e391f",
   "metadata": {},
   "outputs": [
    {
     "name": "stdout",
     "output_type": "stream",
     "text": [
      "1 + 1 = 2\n",
      "2 + 2 = 4\n",
      "3 + 3 = 6\n",
      "4 + 4 = 8\n",
      "5 + 5 = 10\n",
      "6 + 6 = 12\n",
      "7 + 7 = 14\n"
     ]
    }
   ],
   "source": [
    "p = 1\n",
    "while p < 8:\n",
    "    print(\"{} + {} = {}\".format(p, p, (p+p)))\n",
    "    p+=1"
   ]
  },
  {
   "cell_type": "code",
   "execution_count": 16,
   "id": "cde9863b",
   "metadata": {},
   "outputs": [
    {
     "name": "stdout",
     "output_type": "stream",
     "text": [
      "1 + 1 = 2\n",
      "2 + 2 = 4\n",
      "3 + 3 = 6\n",
      "4 + 4 = 8\n",
      "5 + 5 = 10\n",
      "6 + 6 = 12\n",
      "7 + 7 = 14\n"
     ]
    }
   ],
   "source": [
    "a = 1\n",
    "while a < 8:\n",
    "   print(\"%d + %d = %d\" % (a, a, (a+a)))\n",
    "   a +=1 "
   ]
  },
  {
   "cell_type": "code",
   "execution_count": 18,
   "id": "5f51d781",
   "metadata": {},
   "outputs": [
    {
     "name": "stdout",
     "output_type": "stream",
     "text": [
      "1 * 1 = 1\n",
      "2 * 2 = 4\n",
      "3 * 3 = 9\n",
      "4 * 4 = 16\n",
      "5 * 5 = 25\n",
      "6 * 6 = 36\n",
      "7 * 7 = 49\n"
     ]
    }
   ],
   "source": [
    "a = 1\n",
    "while a < 8:\n",
    "   print(\"%d * %d = %d\" % (a, a, (a*a)))\n",
    "   a +=1 "
   ]
  },
  {
   "cell_type": "code",
   "execution_count": 19,
   "id": "e1ad3dec",
   "metadata": {},
   "outputs": [
    {
     "name": "stdout",
     "output_type": "stream",
     "text": [
      "1 * 1 = 1\n",
      "2 * 2 = 4\n",
      "3 * 3 = 9\n",
      "4 * 4 = 16\n",
      "5 * 5 = 25\n",
      "6 * 6 = 36\n",
      "7 * 7 = 49\n"
     ]
    }
   ],
   "source": [
    "a = 1\n",
    "while a < 8:\n",
    "   print(\"%d * %d = %i\" % (a, a, (a*a)))\n",
    "   a +=1 "
   ]
  },
  {
   "cell_type": "code",
   "execution_count": 20,
   "id": "6a3d073f",
   "metadata": {},
   "outputs": [
    {
     "name": "stdout",
     "output_type": "stream",
     "text": [
      "1 * 1 = 1.000000\n",
      "2 * 2 = 4.000000\n",
      "3 * 3 = 9.000000\n",
      "4 * 4 = 16.000000\n",
      "5 * 5 = 25.000000\n",
      "6 * 6 = 36.000000\n",
      "7 * 7 = 49.000000\n"
     ]
    }
   ],
   "source": [
    "a = 1\n",
    "while a < 8:\n",
    "   print(\"%d * %d = %f\" % (a, a, (a*a)))\n",
    "   a +=1 "
   ]
  },
  {
   "cell_type": "code",
   "execution_count": 23,
   "id": "4df36aa4",
   "metadata": {},
   "outputs": [
    {
     "name": "stdout",
     "output_type": "stream",
     "text": [
      "1 / 1.000000 = 1\n",
      "2 / 2.000000 = 1\n",
      "3 / 3.000000 = 1\n",
      "4 / 4.000000 = 1\n",
      "5 / 5.000000 = 1\n",
      "6 / 6.000000 = 1\n",
      "7 / 7.000000 = 1\n",
      "8 / 8.000000 = 1\n",
      "9 / 9.000000 = 1\n",
      "10 / 10.000000 = 1\n",
      "11 / 11.000000 = 1\n",
      "12 / 12.000000 = 1\n",
      "13 / 13.000000 = 1\n",
      "14 / 14.000000 = 1\n"
     ]
    }
   ],
   "source": [
    "p = 1 ; o = 1\n",
    "while p < 15 and o <15:\n",
    "    print(\"%i / %f = %i\" % (p, o, (p/o)))\n",
    "    p+= 1; o +=1"
   ]
  },
  {
   "cell_type": "code",
   "execution_count": 24,
   "id": "fc5fee64",
   "metadata": {},
   "outputs": [
    {
     "name": "stdout",
     "output_type": "stream",
     "text": [
      "5 + 5 +5 = 5\n",
      "6 + 6 +6 = 6\n",
      "7 + 7 +7 = 7\n",
      "8 + 8 +8 = 8\n",
      "9 + 9 +9 = 9\n",
      "10 + 10 +10 = 10\n",
      "11 + 11 +11 = 11\n"
     ]
    }
   ],
   "source": [
    "num = 5; cake = 5\n",
    "while num <12:\n",
    "    print(\"{0} + {1} +{0} = {2}\".format(num, cake, num, num+cake))\n",
    "    cake +=1; num += 1"
   ]
  },
  {
   "cell_type": "code",
   "execution_count": 36,
   "id": "1d6b64a8",
   "metadata": {},
   "outputs": [
    {
     "name": "stdout",
     "output_type": "stream",
     "text": [
      "java\n",
      "VBA\n",
      "C++\n",
      "HTML\n"
     ]
    }
   ],
   "source": [
    "lang = [\"python\", \"java\", \"r\", \"VBA\", \"javaScript\", \"C++\", \"CSS\", \"HTML\", \"C\"]\n",
    "x = 1\n",
    "while x < len(lang):\n",
    "    print(lang[x]) ; x += 2"
   ]
  },
  {
   "cell_type": "code",
   "execution_count": 1,
   "id": "38006fab",
   "metadata": {},
   "outputs": [
    {
     "name": "stdout",
     "output_type": "stream",
     "text": [
      "0\n",
      "1\n",
      "2\n",
      "3\n",
      "4\n"
     ]
    }
   ],
   "source": [
    "g = 0\n",
    "while g < 5:\n",
    "    print(g); g+=1"
   ]
  },
  {
   "cell_type": "code",
   "execution_count": 2,
   "id": "cb22a635",
   "metadata": {},
   "outputs": [
    {
     "name": "stdout",
     "output_type": "stream",
     "text": [
      "0\n",
      "1\n",
      "2\n",
      "3\n",
      "4\n"
     ]
    }
   ],
   "source": [
    "for d in range(5):\n",
    "    print(d)"
   ]
  },
  {
   "cell_type": "code",
   "execution_count": 5,
   "id": "2f29d968",
   "metadata": {},
   "outputs": [
    {
     "name": "stdout",
     "output_type": "stream",
     "text": [
      "1 + 1 = 2\n",
      "2 + 2 = 4\n",
      "3 + 3 = 6\n",
      "4 + 4 = 8\n"
     ]
    }
   ],
   "source": [
    "a = 1; b = 1\n",
    "while a < 5:\n",
    "    while b < 5:\n",
    "        print(\"{} + {} = {}\".format(a, a, b+a))\n",
    "        a += 1; b += 1"
   ]
  },
  {
   "cell_type": "code",
   "execution_count": 8,
   "id": "1ab62305",
   "metadata": {},
   "outputs": [
    {
     "name": "stdout",
     "output_type": "stream",
     "text": [
      "0 + 1 = 1\n",
      "0 + 1 = 2\n",
      "0 + 1 = 3\n",
      "0 + 1 = 4\n",
      "1 + 1 = 2\n",
      "1 + 1 = 3\n",
      "1 + 1 = 4\n",
      "1 + 1 = 5\n",
      "2 + 1 = 3\n",
      "2 + 1 = 4\n",
      "2 + 1 = 5\n",
      "2 + 1 = 6\n",
      "3 + 1 = 4\n",
      "3 + 1 = 5\n",
      "3 + 1 = 6\n",
      "3 + 1 = 7\n",
      "4 + 1 = 5\n",
      "4 + 1 = 6\n",
      "4 + 1 = 7\n",
      "4 + 1 = 8\n"
     ]
    }
   ],
   "source": [
    "for j in range(5):\n",
    "    for k in range(1, 5):\n",
    "        print(\"{} + {} = {}\".format(j, K, j+k))"
   ]
  },
  {
   "cell_type": "code",
   "execution_count": 9,
   "id": "b7ba0c9a",
   "metadata": {},
   "outputs": [
    {
     "name": "stdout",
     "output_type": "stream",
     "text": [
      "1 + 1 = 2\n",
      "2 + 2 = 4\n",
      "3 + 3 = 6\n",
      "4 + 4 = 8\n"
     ]
    }
   ],
   "source": [
    "for t in range(1, 5):\n",
    "    print(\"{} + {} = {}\".format(t, t, t+t))"
   ]
  },
  {
   "cell_type": "code",
   "execution_count": 10,
   "id": "68ea817d",
   "metadata": {},
   "outputs": [
    {
     "name": "stdout",
     "output_type": "stream",
     "text": [
      "while num1 =  0\n",
      "50\n",
      "80\n",
      "110\n",
      "while num1 =  4\n",
      "54\n",
      "84\n",
      "114\n",
      "while num1 =  8\n",
      "58\n",
      "88\n",
      "118\n"
     ]
    }
   ],
   "source": [
    "num1 = 0\n",
    "while num1 < 11:\n",
    "    print(\"while num1 = \", num1)\n",
    "    for g in [50, 80, 110]:\n",
    "        res = num1 + g\n",
    "        print (res)\n",
    "    num1 += 4"
   ]
  },
  {
   "cell_type": "code",
   "execution_count": 11,
   "id": "550e8a85",
   "metadata": {},
   "outputs": [
    {
     "name": "stdout",
     "output_type": "stream",
     "text": [
      "while num1 =  0\n",
      "50\n",
      "80\n",
      "110\n",
      "while num1 =  20\n",
      "70\n",
      "100\n",
      "130\n",
      "while num1 =  40\n",
      "90\n",
      "120\n",
      "150\n",
      "while num1 =  60\n",
      "110\n",
      "140\n",
      "170\n",
      "while num1 =  80\n",
      "130\n",
      "160\n",
      "190\n",
      "while num1 =  100\n",
      "150\n",
      "180\n",
      "210\n"
     ]
    }
   ],
   "source": [
    "num1 = 0\n",
    "while num1 < 110:\n",
    "    print(\"while num1 = \", num1)\n",
    "    for g in [50, 80, 110]:\n",
    "        res = num1 + g\n",
    "        print (res)\n",
    "    num1 += 20"
   ]
  },
  {
   "cell_type": "markdown",
   "id": "ceee9750",
   "metadata": {},
   "source": [
    "# Control Flow in Loops"
   ]
  },
  {
   "cell_type": "code",
   "execution_count": 12,
   "id": "044a3806",
   "metadata": {},
   "outputs": [
    {
     "name": "stdout",
     "output_type": "stream",
     "text": [
      "Even Number = 0\n",
      "od nember = 1\n",
      "Even Number = 2\n",
      "od nember = 3\n",
      "Even Number = 4\n",
      "od nember = 5\n",
      "Even Number = 6\n",
      "od nember = 7\n",
      "Even Number = 8\n",
      "od nember = 9\n"
     ]
    }
   ],
   "source": [
    "for i in range(10):\n",
    "    if i % 2 == 0:\n",
    "       print (\"Even Number =\", i)\n",
    "    else:\n",
    "        print(\"od nember =\", i)"
   ]
  },
  {
   "cell_type": "code",
   "execution_count": 13,
   "id": "ae4fc15f",
   "metadata": {},
   "outputs": [
    {
     "name": "stdout",
     "output_type": "stream",
     "text": [
      "0\n",
      "1\n",
      "2\n",
      "3\n",
      "monrning\n",
      "5\n",
      "6\n",
      "night\n"
     ]
    }
   ],
   "source": [
    "for i in range(8):\n",
    "    if i == 4:\n",
    "        print(\"monrning\")\n",
    "    elif i == 7:\n",
    "        print(\"night\")\n",
    "    else:\n",
    "        print(i)"
   ]
  },
  {
   "cell_type": "code",
   "execution_count": 15,
   "id": "a8159e04",
   "metadata": {},
   "outputs": [
    {
     "name": "stdout",
     "output_type": "stream",
     "text": [
      "cool\n",
      "cool\n",
      "cool\n",
      "cool\n",
      "cool\n",
      "cool\n",
      "hello there\n",
      "cool\n",
      "cool\n",
      "good morning\n"
     ]
    }
   ],
   "source": [
    "x = 0 \n",
    "while x < 10:\n",
    "    if x == 6:\n",
    "        print(\"hello there\")\n",
    "    elif x >8:\n",
    "        print(\"good morning\")\n",
    "    else: \n",
    "        print(\"cool\")\n",
    "    x += 1"
   ]
  },
  {
   "cell_type": "code",
   "execution_count": 19,
   "id": "3a979473",
   "metadata": {},
   "outputs": [
    {
     "name": "stdout",
     "output_type": "stream",
     "text": [
      "cool\n",
      "cool\n",
      "cool\n",
      "cool\n",
      "cool\n",
      "cool\n",
      "Hello\n",
      "cool\n",
      "cool\n",
      "Good Morning\n"
     ]
    }
   ],
   "source": [
    " for s in range(10):\n",
    "        if s == 6:\n",
    "            print(\"Hello\")\n",
    "        elif s > 8:\n",
    "            print(\"Good Morning\")\n",
    "        else:\n",
    "            print(\"cool\")"
   ]
  },
  {
   "cell_type": "code",
   "execution_count": 37,
   "id": "6cbe6114",
   "metadata": {},
   "outputs": [],
   "source": [
    "num = [10, 5, 20, 3, 100, 4, 7]\n",
    "rad = [4, 1, 40, 3, 120, 5, 7]"
   ]
  },
  {
   "cell_type": "code",
   "execution_count": 38,
   "id": "a1343206",
   "metadata": {},
   "outputs": [],
   "source": [
    "X = 0 \n",
    "while x < len(num):\n",
    "    if num[x] == rad[x]:\n",
    "        print(\"EQUAL\")\n",
    "    elif num[x] > rad[x]:\n",
    "        print(\"Greater\")        \n",
    "    else:\n",
    "        print(\"Less\")\n",
    "    x += 1"
   ]
  },
  {
   "cell_type": "code",
   "execution_count": 39,
   "id": "a2b7c593",
   "metadata": {},
   "outputs": [
    {
     "name": "stdout",
     "output_type": "stream",
     "text": [
      "Greater\n",
      "Greater\n",
      "Less\n",
      "EQUAL\n",
      "Less\n",
      "Less\n",
      "EQUAL\n"
     ]
    }
   ],
   "source": [
    "for x in range(len(num)):\n",
    "    if num[x] == rad[x]:\n",
    "        print(\"EQUAL\")\n",
    "    elif num[x] > rad[x]:\n",
    "        print(\"Greater\")        \n",
    "    else:\n",
    "        print(\"Less\")\n"
   ]
  },
  {
   "cell_type": "markdown",
   "id": "d81039f8",
   "metadata": {},
   "source": [
    "# Break, Pass and Continue"
   ]
  },
  {
   "cell_type": "code",
   "execution_count": 40,
   "id": "1f096dac",
   "metadata": {},
   "outputs": [
    {
     "name": "stdout",
     "output_type": "stream",
     "text": [
      "11\n",
      "12\n",
      "13\n",
      "14\n",
      "15\n",
      "16\n",
      "17\n",
      "18\n",
      "19\n",
      "20\n"
     ]
    }
   ],
   "source": [
    "for num in range(40):\n",
    "    if num > 10 and num <= 20:\n",
    "        if num == 16:\n",
    "            pass\n",
    "        print(num)"
   ]
  },
  {
   "cell_type": "code",
   "execution_count": 41,
   "id": "7fb49d0b",
   "metadata": {},
   "outputs": [
    {
     "name": "stdout",
     "output_type": "stream",
     "text": [
      "11\n",
      "12\n",
      "13\n",
      "14\n",
      "15\n"
     ]
    }
   ],
   "source": [
    "for num in range(40):\n",
    "    if num > 10 and num <= 20:\n",
    "        if num == 16:\n",
    "            break\n",
    "        print(num)"
   ]
  },
  {
   "cell_type": "code",
   "execution_count": 42,
   "id": "b4f8b309",
   "metadata": {},
   "outputs": [
    {
     "name": "stdout",
     "output_type": "stream",
     "text": [
      "11\n",
      "12\n",
      "13\n",
      "14\n",
      "15\n",
      "17\n",
      "18\n",
      "19\n",
      "20\n"
     ]
    }
   ],
   "source": [
    "for num in range(40):\n",
    "    if num > 10 and num <= 20:\n",
    "        if num == 16:\n",
    "            continue\n",
    "        print(num)"
   ]
  },
  {
   "cell_type": "code",
   "execution_count": 44,
   "id": "a90b1f76",
   "metadata": {},
   "outputs": [
    {
     "name": "stdout",
     "output_type": "stream",
     "text": [
      "11\n",
      "12\n",
      "13\n",
      "14\n",
      "15\n",
      "17\n",
      "18\n",
      "19\n"
     ]
    }
   ],
   "source": [
    "for num in range(40):\n",
    "    if num > 10 and num <= 19:\n",
    "        if num == 16:\n",
    "            continue\n",
    "        print(num)"
   ]
  },
  {
   "cell_type": "code",
   "execution_count": 47,
   "id": "11a085f0",
   "metadata": {},
   "outputs": [
    {
     "name": "stdout",
     "output_type": "stream",
     "text": [
      "11\n",
      "12\n",
      "13\n",
      "14\n",
      "15\n",
      "16\n",
      "17\n",
      "18\n",
      "19\n",
      "20\n"
     ]
    }
   ],
   "source": [
    "for num in range(40):\n",
    "    if num > 10 and num <= 20:\n",
    "        if num == 16 and num == 19:\n",
    "            continue\n",
    "        print(num)"
   ]
  },
  {
   "cell_type": "code",
   "execution_count": 48,
   "id": "ce77a1a1",
   "metadata": {},
   "outputs": [
    {
     "name": "stdout",
     "output_type": "stream",
     "text": [
      "11\n",
      "12\n",
      "13\n",
      "14\n",
      "15\n",
      "17\n",
      "18\n",
      "20\n"
     ]
    }
   ],
   "source": [
    "for num in range(40):\n",
    "    if num > 10 and num <= 20:\n",
    "        if num == 16 or num == 19:\n",
    "            continue\n",
    "        print(num)"
   ]
  },
  {
   "cell_type": "code",
   "execution_count": 49,
   "id": "99380ecb",
   "metadata": {},
   "outputs": [
    {
     "name": "stdout",
     "output_type": "stream",
     "text": [
      "11\n",
      "12\n",
      "13\n",
      "14\n",
      "15\n"
     ]
    }
   ],
   "source": [
    "for num in range(40):\n",
    "    if num > 10 and num <= 20:\n",
    "        if num == 16 or num == 19:\n",
    "            break\n",
    "        print(num)"
   ]
  },
  {
   "cell_type": "code",
   "execution_count": 50,
   "id": "4cd0308d",
   "metadata": {},
   "outputs": [
    {
     "name": "stdout",
     "output_type": "stream",
     "text": [
      "c\n",
      "o\n",
      "m\n",
      "p\n",
      "u\n",
      "t\n",
      "A\n",
      "t\n",
      "i\n",
      "o\n",
      "n\n"
     ]
    }
   ],
   "source": [
    "for word in \"computAtion\":\n",
    "    if word == \"A\":\n",
    "        pass\n",
    "    print(word)"
   ]
  },
  {
   "cell_type": "code",
   "execution_count": 51,
   "id": "01c620a5",
   "metadata": {},
   "outputs": [
    {
     "name": "stdout",
     "output_type": "stream",
     "text": [
      "c\n",
      "o\n",
      "m\n",
      "p\n",
      "u\n",
      "t\n"
     ]
    }
   ],
   "source": [
    "for word in \"computAtion\":\n",
    "    if word == \"A\":\n",
    "        break\n",
    "    print(word)"
   ]
  },
  {
   "cell_type": "code",
   "execution_count": 52,
   "id": "ff9a20bd",
   "metadata": {},
   "outputs": [
    {
     "name": "stdout",
     "output_type": "stream",
     "text": [
      "c\n",
      "o\n",
      "m\n",
      "p\n",
      "u\n",
      "t\n",
      "t\n",
      "i\n",
      "o\n",
      "n\n"
     ]
    }
   ],
   "source": [
    "for word in \"computAtion\":\n",
    "    if word == \"A\":\n",
    "        continue\n",
    "    print(word)"
   ]
  },
  {
   "cell_type": "code",
   "execution_count": 53,
   "id": "a4186a5e",
   "metadata": {},
   "outputs": [
    {
     "name": "stdout",
     "output_type": "stream",
     "text": [
      "c\n",
      "o\n",
      "m\n",
      "p\n",
      "u\n",
      "t\n",
      "A\n",
      "t\n",
      "i\n",
      "o\n",
      "n\n"
     ]
    }
   ],
   "source": [
    "for word in \"computAtion\":\n",
    "    if word == \"A\" and word == \"p\":\n",
    "        continue\n",
    "    print(word)"
   ]
  },
  {
   "cell_type": "code",
   "execution_count": 54,
   "id": "51a75785",
   "metadata": {},
   "outputs": [
    {
     "name": "stdout",
     "output_type": "stream",
     "text": [
      "c\n",
      "o\n",
      "m\n",
      "u\n",
      "t\n",
      "t\n",
      "i\n",
      "o\n",
      "n\n"
     ]
    }
   ],
   "source": [
    "for word in \"computAtion\":\n",
    "    if word == \"A\" or word == \"p\":\n",
    "        continue\n",
    "    print(word)"
   ]
  },
  {
   "cell_type": "code",
   "execution_count": 55,
   "id": "1be83749",
   "metadata": {},
   "outputs": [
    {
     "name": "stdout",
     "output_type": "stream",
     "text": [
      "c\n",
      "o\n",
      "m\n",
      "p\n",
      "u\n",
      "t\n",
      "A\n",
      "t\n",
      "i\n",
      "o\n",
      "n\n"
     ]
    }
   ],
   "source": [
    "for word in \"computAtion\":\n",
    "    if word == \"A\" or word == \"p\":\n",
    "        pass\n",
    "    print(word)"
   ]
  },
  {
   "cell_type": "code",
   "execution_count": null,
   "id": "4e8c9fab",
   "metadata": {},
   "outputs": [],
   "source": []
  },
  {
   "cell_type": "code",
   "execution_count": null,
   "id": "dc8358e9",
   "metadata": {},
   "outputs": [],
   "source": []
  }
 ],
 "metadata": {
  "kernelspec": {
   "display_name": "Python 3 (ipykernel)",
   "language": "python",
   "name": "python3"
  },
  "language_info": {
   "codemirror_mode": {
    "name": "ipython",
    "version": 3
   },
   "file_extension": ".py",
   "mimetype": "text/x-python",
   "name": "python",
   "nbconvert_exporter": "python",
   "pygments_lexer": "ipython3",
   "version": "3.9.13"
  }
 },
 "nbformat": 4,
 "nbformat_minor": 5
}
