{
 "cells": [
  {
   "cell_type": "markdown",
   "id": "7903b2c7",
   "metadata": {},
   "source": [
    "# TUPLES and BUILT-IN FUNCTIONS"
   ]
  },
  {
   "cell_type": "markdown",
   "id": "9c25d8e6",
   "metadata": {},
   "source": [
    "### Tuples"
   ]
  },
  {
   "cell_type": "code",
   "execution_count": 1,
   "id": "de45956c",
   "metadata": {},
   "outputs": [
    {
     "data": {
      "text/plain": [
       "(34, 44, 53, 54, 24)"
      ]
     },
     "execution_count": 1,
     "metadata": {},
     "output_type": "execute_result"
    }
   ],
   "source": [
    "tup1 = 34,44,53,54,24\n",
    "tup1"
   ]
  },
  {
   "cell_type": "code",
   "execution_count": 2,
   "id": "e9393db1",
   "metadata": {},
   "outputs": [
    {
     "data": {
      "text/plain": [
       "tuple"
      ]
     },
     "execution_count": 2,
     "metadata": {},
     "output_type": "execute_result"
    }
   ],
   "source": [
    "type(tup1)"
   ]
  },
  {
   "cell_type": "code",
   "execution_count": 4,
   "id": "da490e06",
   "metadata": {},
   "outputs": [
    {
     "data": {
      "text/plain": [
       "(30, 40, 50, 60)"
      ]
     },
     "execution_count": 4,
     "metadata": {},
     "output_type": "execute_result"
    }
   ],
   "source": [
    "mylist = [30,40,50,60]\n",
    "tup2 = tuple(mylist)\n",
    "tup2"
   ]
  },
  {
   "cell_type": "code",
   "execution_count": 6,
   "id": "23ba1aff",
   "metadata": {},
   "outputs": [
    {
     "data": {
      "text/plain": [
       "list"
      ]
     },
     "execution_count": 6,
     "metadata": {},
     "output_type": "execute_result"
    }
   ],
   "source": [
    "type(mylist)"
   ]
  },
  {
   "cell_type": "code",
   "execution_count": 5,
   "id": "58294b5b",
   "metadata": {},
   "outputs": [
    {
     "data": {
      "text/plain": [
       "tuple"
      ]
     },
     "execution_count": 5,
     "metadata": {},
     "output_type": "execute_result"
    }
   ],
   "source": [
    "type(tup2)"
   ]
  },
  {
   "cell_type": "code",
   "execution_count": 7,
   "id": "8ccb5781",
   "metadata": {},
   "outputs": [
    {
     "data": {
      "text/plain": [
       "(34, 44, 53, 54, 24, 30, 40, 50, 60)"
      ]
     },
     "execution_count": 7,
     "metadata": {},
     "output_type": "execute_result"
    }
   ],
   "source": [
    "tup3 = tup1 + tup2\n",
    "tup3"
   ]
  },
  {
   "cell_type": "code",
   "execution_count": 9,
   "id": "9c137015",
   "metadata": {},
   "outputs": [
    {
     "data": {
      "text/plain": [
       "5"
      ]
     },
     "execution_count": 9,
     "metadata": {},
     "output_type": "execute_result"
    }
   ],
   "source": [
    "tup4 = \"Cat\", \"cat\",\"cat\",\"cat\",\"cat\",\"rat\",\"rat\",4,4,4,4,4,False\n",
    "tup4.count(4)"
   ]
  },
  {
   "cell_type": "code",
   "execution_count": 11,
   "id": "3cbf5fd6",
   "metadata": {},
   "outputs": [
    {
     "data": {
      "text/plain": [
       "1"
      ]
     },
     "execution_count": 11,
     "metadata": {},
     "output_type": "execute_result"
    }
   ],
   "source": [
    "tup4.count(\"Cat\")"
   ]
  },
  {
   "cell_type": "code",
   "execution_count": 12,
   "id": "1f980f62",
   "metadata": {},
   "outputs": [
    {
     "data": {
      "text/plain": [
       "4"
      ]
     },
     "execution_count": 12,
     "metadata": {},
     "output_type": "execute_result"
    }
   ],
   "source": [
    "tup4.count(\"cat\")"
   ]
  },
  {
   "cell_type": "code",
   "execution_count": 13,
   "id": "519774c4",
   "metadata": {},
   "outputs": [
    {
     "data": {
      "text/plain": [
       "6"
      ]
     },
     "execution_count": 13,
     "metadata": {},
     "output_type": "execute_result"
    }
   ],
   "source": [
    "tup3.index(40)"
   ]
  },
  {
   "cell_type": "markdown",
   "id": "21c6558a",
   "metadata": {},
   "source": [
    "### BUILT-IN FUNCTIONS"
   ]
  },
  {
   "cell_type": "code",
   "execution_count": 14,
   "id": "8b274928",
   "metadata": {},
   "outputs": [
    {
     "data": {
      "text/plain": [
       "389"
      ]
     },
     "execution_count": 14,
     "metadata": {},
     "output_type": "execute_result"
    }
   ],
   "source": [
    "sum(tup3)"
   ]
  },
  {
   "cell_type": "code",
   "execution_count": 15,
   "id": "e2cc0374",
   "metadata": {},
   "outputs": [
    {
     "data": {
      "text/plain": [
       "627"
      ]
     },
     "execution_count": 15,
     "metadata": {},
     "output_type": "execute_result"
    }
   ],
   "source": [
    "sum(tup1*3)"
   ]
  },
  {
   "cell_type": "code",
   "execution_count": 16,
   "id": "b51a0a65",
   "metadata": {},
   "outputs": [
    {
     "data": {
      "text/plain": [
       "60"
      ]
     },
     "execution_count": 16,
     "metadata": {},
     "output_type": "execute_result"
    }
   ],
   "source": [
    "max(tup3)"
   ]
  },
  {
   "cell_type": "code",
   "execution_count": 17,
   "id": "0bb256c9",
   "metadata": {},
   "outputs": [
    {
     "data": {
      "text/plain": [
       "24"
      ]
     },
     "execution_count": 17,
     "metadata": {},
     "output_type": "execute_result"
    }
   ],
   "source": [
    "min(tup3)"
   ]
  },
  {
   "cell_type": "code",
   "execution_count": 18,
   "id": "a1754310",
   "metadata": {},
   "outputs": [
    {
     "data": {
      "text/plain": [
       "(34, 44, 53, 54, 24, 30, 40, 50, 60)"
      ]
     },
     "execution_count": 18,
     "metadata": {},
     "output_type": "execute_result"
    }
   ],
   "source": [
    "tup3"
   ]
  },
  {
   "cell_type": "code",
   "execution_count": 19,
   "id": "ca184ee4",
   "metadata": {},
   "outputs": [
    {
     "data": {
      "text/plain": [
       "[24, 30, 34, 40, 44, 50, 53, 54, 60]"
      ]
     },
     "execution_count": 19,
     "metadata": {},
     "output_type": "execute_result"
    }
   ],
   "source": [
    "sorted(tup3)"
   ]
  },
  {
   "cell_type": "code",
   "execution_count": 21,
   "id": "4648130d",
   "metadata": {},
   "outputs": [
    {
     "data": {
      "text/plain": [
       "tuple"
      ]
     },
     "execution_count": 21,
     "metadata": {},
     "output_type": "execute_result"
    }
   ],
   "source": [
    "type(tup3)"
   ]
  },
  {
   "cell_type": "code",
   "execution_count": 22,
   "id": "0d022266",
   "metadata": {},
   "outputs": [
    {
     "data": {
      "text/plain": [
       "list"
      ]
     },
     "execution_count": 22,
     "metadata": {},
     "output_type": "execute_result"
    }
   ],
   "source": [
    "type(sorted(tup3))"
   ]
  },
  {
   "cell_type": "code",
   "execution_count": 20,
   "id": "6b863b72",
   "metadata": {},
   "outputs": [
    {
     "data": {
      "text/plain": [
       "(24, 30, 34, 40, 44, 50, 53, 54, 60)"
      ]
     },
     "execution_count": 20,
     "metadata": {},
     "output_type": "execute_result"
    }
   ],
   "source": [
    "tuple(sorted(tup3))"
   ]
  }
 ],
 "metadata": {
  "kernelspec": {
   "display_name": "Python 3 (ipykernel)",
   "language": "python",
   "name": "python3"
  },
  "language_info": {
   "codemirror_mode": {
    "name": "ipython",
    "version": 3
   },
   "file_extension": ".py",
   "mimetype": "text/x-python",
   "name": "python",
   "nbconvert_exporter": "python",
   "pygments_lexer": "ipython3",
   "version": "3.9.13"
  }
 },
 "nbformat": 4,
 "nbformat_minor": 5
}
